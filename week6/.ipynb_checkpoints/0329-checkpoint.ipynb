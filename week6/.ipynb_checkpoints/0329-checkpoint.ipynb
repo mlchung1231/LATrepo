{
 "cells": [
  {
   "cell_type": "code",
   "execution_count": 1,
   "id": "6c3d40a5",
   "metadata": {
    "scrolled": true
   },
   "outputs": [],
   "source": [
    "import openai\n",
    "import pandas as pd\n",
    "with open('1.txt', 'r', encoding=\"cp1252\") as fh:\n",
    "    tmp = fh.read()\n",
    "    itemlist = tmp.split(',')"
   ]
  },
  {
   "cell_type": "code",
   "execution_count": 2,
   "id": "126f6843",
   "metadata": {},
   "outputs": [],
   "source": [
    "itemlist = str(itemlist)"
   ]
  },
  {
   "cell_type": "code",
   "execution_count": 3,
   "id": "8a51c56b",
   "metadata": {},
   "outputs": [],
   "source": [
    "keyfile = open(\"key.txt\", \"r\")\n",
    "key = keyfile.readline()\n",
    "openai.api_key = key"
   ]
  },
  {
   "cell_type": "code",
   "execution_count": 4,
   "id": "1df200ad",
   "metadata": {},
   "outputs": [],
   "source": [
    "data = [itemlist[0:3200], itemlist[3201:6400], itemlist[6401:9600], itemlist[9601:12800], itemlist[12801:16000]]"
   ]
  },
  {
   "cell_type": "code",
   "execution_count": 5,
   "id": "9908ab02",
   "metadata": {},
   "outputs": [],
   "source": [
    "def chatgptfn(sub_list):\n",
    "    result = ''\n",
    "    response = openai.ChatCompletion.create(\n",
    "        model=\"gpt-3.5-turbo\",\n",
    "        messages=[\n",
    "            {\"role\": \"system\", \"content\": \"You are an assistant\"},\n",
    "            {\"role\": \"user\", \"content\": f\"{sub_list} :give me a summary\"}\n",
    "        ]\n",
    "    )\n",
    "    for choice in response.choices:\n",
    "        result += choice.message.content\n",
    "    return result"
   ]
  },
  {
   "cell_type": "code",
   "execution_count": 6,
   "id": "c0d281b6",
   "metadata": {},
   "outputs": [],
   "source": [
    "for i in range(0,5):\n",
    "    data[i] = chatgptfn(data[i])"
   ]
  },
  {
   "cell_type": "code",
   "execution_count": 13,
   "id": "81e98eea",
   "metadata": {},
   "outputs": [],
   "source": [
    "Data1 = ''\n",
    "for i in range(0,5):\n",
    "    Data1 = Data1 + data[i]"
   ]
  },
  {
   "cell_type": "code",
   "execution_count": 14,
   "id": "72eda729",
   "metadata": {},
   "outputs": [
    {
     "data": {
      "text/plain": [
       "\"The paper provides a literature review on the use of blockchain technology in education. It discusses the benefits and barriers of blockchain technology in the education sector and identifies its potential applications in various functions of an education system. The review is based on bibliometric analysis of data in publications, journals, authors and citations from the SCOPUS database on the topic “Blockchain Technology in Education”. The study suggests that blockchain technology in education is a young discipline with a lot of potential to benefit the educational sector at large. The research provides a groundwork for education institutions, policymakers and researchers to explore other areas where blockchain technology can be implemented.Blockchain technology is a decentralized network that eliminates third-party intermediaries, allowing for direct transactions and verification. It can be classified into four generations - Blockchain 1.0, 2.0, 3.0, and 4.0, each with its own unique capabilities and applications. The benefits of blockchain technology include security, decentralization, transparency, and immutability, which have led to widespread adoption in various sectors such as finance, government, education, health, tourism, energy, public, banking, and business. The use of blockchain technology in education is still in its early stages, with one notable application being EduCTX - a globally trusted decentralized higher education credit transfer and grading system. The strong cybersecurity capabilities of blockchain technology make it a valuable tool in securing transactions and records. By 2025, it is estimated that 10% of the world's GDP will be controlled by the use of blockchain technologies.This paper provides a systematic literature review on the application of blockchain technology in education, with the purpose of identifying its current and potential uses. The review covers the technology's definition, methodology of examination, and results in an educational setting. The study aims to contribute to the literature and offer guidance to policy-makers, higher education institutions, managers, researchers, and academicians in utilizing the potential benefits of blockchain technology for the education sector. The methodology follows the Preferred Reporting Items for Systematic Reviews and Meta-Analyses (PRISMA) diagram, outlining the data search and inclusion and exclusion criteria for the study.The systematic literature review on the use of blockchain technology in education involved three stages: searching academic databases, visual examination, and content analysis. A total of 36 articles were selected and analyzed from the period of 2017-2020. The review shows that blockchain technology in education is a new subject that started gaining attention among researchers after the introduction of cryptocurrency exchanges. The technology has been widely applied in all major areas of research, but it is still immature and lacks public knowledge. The review provides a year-wise and geography-wise publication analysis to better understand the current state of literature.The article summarizes the existing studies on the application of blockchain technology in education. The studies have revealed that blockchain technology can bring significant changes in the education system in terms of scalability, security of smart contracts, and user adoption. The technology has applications in student data and credentials management, administration activities, and both online and offline teaching and learning. However, most of the studies are qualitative, and there is a need for more quantitative research to measure the overall impact of blockchain technology in education. The area of blockchain technology in education is new and has started receiving attention from 2017 and is consistently growing. The article also presents the year-wise and area-wise study on the topic around the world along with the country-wise publication.\""
      ]
     },
     "execution_count": 14,
     "metadata": {},
     "output_type": "execute_result"
    }
   ],
   "source": [
    "Data1"
   ]
  },
  {
   "cell_type": "code",
   "execution_count": null,
   "id": "bfdf0611",
   "metadata": {},
   "outputs": [],
   "source": []
  },
  {
   "cell_type": "code",
   "execution_count": 8,
   "id": "a8095916",
   "metadata": {
    "scrolled": false
   },
   "outputs": [],
   "source": [
    "import gensim\n",
    "from gensim import corpora\n",
    "from pprint import pprint"
   ]
  },
  {
   "cell_type": "code",
   "execution_count": 9,
   "id": "52303906",
   "metadata": {},
   "outputs": [],
   "source": [
    "# 創建詞袋\n",
    "texts = [[word for word in document.lower().split()] for document in Data]\n",
    "dictionary = corpora.Dictionary(texts)\n",
    "corpus = [dictionary.doc2bow(text) for text in texts]"
   ]
  },
  {
   "cell_type": "code",
   "execution_count": 10,
   "id": "9f6f38b3",
   "metadata": {},
   "outputs": [],
   "source": [
    "# 訓練 LDA 模型\n",
    "lda_model = gensim.models.ldamodel.LdaModel(corpus=corpus, id2word=dictionary, \n",
    "                                            num_topics=3, random_state=100, update_every=1, \n",
    "                                            chunksize=100, passes=10, alpha='auto', per_word_topics=True)"
   ]
  },
  {
   "cell_type": "code",
   "execution_count": 11,
   "id": "fcdbb5fd",
   "metadata": {},
   "outputs": [
    {
     "name": "stderr",
     "output_type": "stream",
     "text": [
      "C:\\Users\\L3510\\anaconda3\\lib\\site-packages\\pyLDAvis\\_prepare.py:243: FutureWarning: In a future version of pandas all arguments of DataFrame.drop except for the argument 'labels' will be keyword-only\n",
      "  default_term_info = default_term_info.sort_values(\n"
     ]
    },
    {
     "data": {
      "text/html": [
       "\n",
       "<link rel=\"stylesheet\" type=\"text/css\" href=\"https://cdn.jsdelivr.net/gh/bmabey/pyLDAvis@3.4.0/pyLDAvis/js/ldavis.v1.0.0.css\">\n",
       "\n",
       "\n",
       "<div id=\"ldavis_el701221771602394721872780372\" style=\"background-color:white;\"></div>\n",
       "<script type=\"text/javascript\">\n",
       "\n",
       "var ldavis_el701221771602394721872780372_data = {\"mdsDat\": {\"x\": [0.11056740117296869, -0.058794627005224476, -0.051772774167744236], \"y\": [-0.0025118695004748147, -0.05807261196980613, 0.06058448147028097], \"topics\": [1, 2, 3], \"cluster\": [1, 1, 1], \"Freq\": [71.85320933453603, 21.038365807786246, 7.108424857677728]}, \"tinfo\": {\"Term\": [\"the\", \"systematic\", \"methodology\", \"it\", \"by\", \"-\", \"decentralized\", \"transactions\", \"capabilities\", \"blockchain\", \"for\", \"higher\", \"potential\", \"be\", \"education,\", \"results\", \"offer\", \"items\", \"academicians\", \"researchers,\", \"this\", \"exclusion\", \"(prisma)\", \"guidance\", \"criteria\", \"contribute\", \"reviews\", \"diagram,\", \"managers,\", \"policy-makers,\", \"the\", \"on\", \"review\", \"education\", \"of\", \"in\", \"to\", \"provides\", \"studies\", \"has\", \"from\", \"and\", \"education.\", \"technology\", \"study\", \"data\", \"literature\", \"potential\", \"a\", \"started\", \"new\", \"attention\", \"year-wise\", \"article\", \"researchers\", \"applications\", \"analysis\", \"sector\", \"areas\", \"research\", \"for\", \"is\", \"blockchain\", \"that\", \"with\", \"can\", \"use\", \"application\", \"it\", \"its\", \"benefits\", \"by\", \"-\", \"decentralized\", \"transactions\", \"capabilities\", \"records.\", \"sectors\", \"eductx\", \"banking,\", \"as\", \"one\", \"technologies.\", \"which\", \"public,\", \"10%\", \"gdp\", \"estimated\", \"business.\", \"securing\", \"health,\", \"valuable\", \"classified\", \"applications.\", \"energy,\", \"government,\", \"will\", \"2.0,\", \"security,\", \"own\", \"finance,\", \"it\", \"be\", \"blockchain\", \"its\", \"use\", \"and\", \"with\", \"is\", \"technology\", \"of\", \"a\", \"that\", \"in\", \"the\", \"methodology\", \"results\", \"offer\", \"items\", \"academicians\", \"researchers,\", \"this\", \"exclusion\", \"(prisma)\", \"guidance\", \"criteria\", \"contribute\", \"reviews\", \"diagram,\", \"managers,\", \"policy-makers,\", \"uses.\", \"search\", \"reporting\", \"inclusion\", \"follows\", \"study.\", \"meta-analyses\", \"technology's\", \"identifying\", \"sector.\", \"utilizing\", \"purpose\", \"outlining\", \"definition,\", \"systematic\"], \"Freq\": [39.0, 2.0, 1.0, 3.0, 1.0, 1.0, 1.0, 1.0, 1.0, 13.0, 4.0, 1.0, 3.0, 2.0, 1.0, 0.0, 0.0, 0.0, 0.0, 0.0, 0.0, 0.0, 0.0, 0.0, 0.0, 0.0, 0.0, 0.0, 0.0, 0.0, 37.94402899676756, 5.806287197253056, 5.750178557846988, 9.242511779641575, 19.144860333352305, 16.240765102916942, 6.122838032711562, 3.3983564760714886, 2.6562758638568384, 2.655901592282154, 2.6553576662111347, 21.90155178959381, 2.65354782719787, 13.660861273950697, 2.581046131031094, 2.5691193053073436, 3.099573510161556, 3.0447070932050027, 8.479246899563645, 1.859735394109284, 1.859715715716128, 1.859528102297884, 1.8592934899988984, 1.8594081214153408, 1.8588213996155165, 1.8587938880755703, 1.8586832687587034, 1.85851915478083, 1.858602835714833, 1.858562141561996, 4.146031483513251, 6.68373069967845, 11.06840071962735, 3.9159650843991645, 2.916383336173266, 2.048778457168763, 2.1219283939955202, 1.958017504781597, 2.116763293422986, 1.9903626694544312, 1.9001288305305397, 1.3476765960064205, 1.3456914165861604, 1.3433551611390309, 1.3378083165449672, 1.3372822618992244, 0.7742033039434316, 0.7738867425610135, 0.7729332545307405, 0.7727050215496015, 0.7725795493494313, 0.7723659165663505, 0.7720870583773852, 0.7717701054187741, 0.7719109050299326, 0.7716197961000681, 0.7716015038979033, 0.7715904838250395, 0.7715841626664932, 0.7714662982323609, 0.7712307371824647, 0.7710301942321257, 0.7709455018954972, 0.7708599704670263, 0.7708770320011554, 0.770579713791657, 0.7705707634786712, 0.7704276144103538, 0.7703503620213948, 0.7701001448339844, 0.7700888450638397, 1.7752055251276961, 1.2761786989027006, 2.775965752224606, 1.1956112258926017, 1.1814751015627618, 2.305165639941975, 1.1334662939801754, 1.344845835766823, 1.4540723228365027, 1.5007700214455755, 1.1833974050342961, 1.0340985766644015, 1.2780257078662416, 0.7795088257236146, 0.6429164426563065, 0.3862285693050158, 0.3814910900250213, 0.3813757196937822, 0.38024654958747683, 0.37916179630266755, 0.3749611368371969, 0.37479163468605786, 0.37416159624871764, 0.37327522549940734, 0.3727089960788206, 0.371072907184207, 0.370349045299247, 0.36918751706596237, 0.36720074319005613, 0.36678636259666053, 0.36618641419328696, 0.3660337715335414, 0.36466040341288325, 0.36460143299455655, 0.36379157258287015, 0.3634428154806381, 0.36296481487824006, 0.3617823067845893, 0.361716910102727, 0.3601738130216286, 0.3589736138024798, 0.35651810070397677, 0.35338125246449936, 0.35201340337017184, 0.4166518617383537], \"Total\": [39.0, 2.0, 1.0, 3.0, 1.0, 1.0, 1.0, 1.0, 1.0, 13.0, 4.0, 1.0, 3.0, 2.0, 1.0, 0.0, 0.0, 0.0, 0.0, 0.0, 0.0, 0.0, 0.0, 0.0, 0.0, 0.0, 0.0, 0.0, 0.0, 0.0, 39.07010772702809, 6.125118703476434, 6.0906035867843435, 9.965231956702155, 20.788072039410174, 17.6668600499767, 6.692066194003028, 3.722431480628797, 2.95851883765429, 2.9584201017206633, 2.957960951584149, 24.4057359383155, 2.9573467491954415, 15.243053370270104, 2.9127579167273243, 2.905455078801722, 3.5403658931353585, 3.5069918711541344, 9.776551923752487, 2.161305638880438, 2.1613197301825915, 2.161207848901812, 2.1611123873110825, 2.161250601278838, 2.1607502341272644, 2.1608270559328937, 2.160741530951902, 2.1605841450550747, 2.160718608078438, 2.1607458056506017, 4.922341032427474, 8.135445099584162, 13.975800316692107, 5.055753969783203, 4.181981811381773, 2.7994630511130407, 3.408911147187307, 2.734475662388891, 3.9976796346113077, 3.3354542569594816, 2.704032473760514, 1.755887622258762, 1.7568709285554525, 1.7575121502011275, 1.7596407695908296, 1.7591784410169282, 1.1605375088463827, 1.1608287800488961, 1.1608485803497817, 1.1610745361612609, 1.1611203591397672, 1.1613650889037999, 1.161292274969519, 1.161286767506016, 1.1615021150757041, 1.1612347636264446, 1.1615246624522837, 1.16158253716548, 1.1616800168506516, 1.1616201698317026, 1.1618057241311557, 1.1618142451959477, 1.1617126264081803, 1.1616098821996734, 1.1619409707738262, 1.161807769860715, 1.1618268285820899, 1.1618744025017842, 1.162041483697305, 1.1618664418001978, 1.1618817516106663, 3.9976796346113077, 2.5776988903339535, 13.975800316692107, 3.3354542569594816, 3.408911147187307, 24.4057359383155, 4.181981811381773, 8.135445099584162, 15.243053370270104, 20.788072039410174, 9.776551923752487, 5.055753969783203, 17.6668600499767, 39.07010772702809, 1.3225150474071585, 0.9246422134231894, 0.9320247125166365, 0.9322043726479416, 0.9339683166247391, 0.9356534251194067, 0.9421863418706096, 0.9424422178704712, 0.9434124864503559, 0.9447987334487222, 0.9456915156508428, 0.9482449997757223, 0.9493699529586332, 0.9511834503820706, 0.9542810450553958, 0.9549170710976609, 0.9558552182053419, 0.956112217577584, 0.9582244137493205, 0.958313555050728, 0.9595726151414499, 0.9601106434520565, 0.9608580114898673, 0.9627269625359673, 0.9627964073678127, 0.9652256270088915, 0.9670830968665665, 0.9708908973275272, 0.9757901342665313, 0.9779290195315399, 2.4724317149786916], \"Category\": [\"Default\", \"Default\", \"Default\", \"Default\", \"Default\", \"Default\", \"Default\", \"Default\", \"Default\", \"Default\", \"Default\", \"Default\", \"Default\", \"Default\", \"Default\", \"Default\", \"Default\", \"Default\", \"Default\", \"Default\", \"Default\", \"Default\", \"Default\", \"Default\", \"Default\", \"Default\", \"Default\", \"Default\", \"Default\", \"Default\", \"Topic1\", \"Topic1\", \"Topic1\", \"Topic1\", \"Topic1\", \"Topic1\", \"Topic1\", \"Topic1\", \"Topic1\", \"Topic1\", \"Topic1\", \"Topic1\", \"Topic1\", \"Topic1\", \"Topic1\", \"Topic1\", \"Topic1\", \"Topic1\", \"Topic1\", \"Topic1\", \"Topic1\", \"Topic1\", \"Topic1\", \"Topic1\", \"Topic1\", \"Topic1\", \"Topic1\", \"Topic1\", \"Topic1\", \"Topic1\", \"Topic1\", \"Topic1\", \"Topic1\", \"Topic1\", \"Topic1\", \"Topic1\", \"Topic1\", \"Topic1\", \"Topic1\", \"Topic1\", \"Topic1\", \"Topic2\", \"Topic2\", \"Topic2\", \"Topic2\", \"Topic2\", \"Topic2\", \"Topic2\", \"Topic2\", \"Topic2\", \"Topic2\", \"Topic2\", \"Topic2\", \"Topic2\", \"Topic2\", \"Topic2\", \"Topic2\", \"Topic2\", \"Topic2\", \"Topic2\", \"Topic2\", \"Topic2\", \"Topic2\", \"Topic2\", \"Topic2\", \"Topic2\", \"Topic2\", \"Topic2\", \"Topic2\", \"Topic2\", \"Topic2\", \"Topic2\", \"Topic2\", \"Topic2\", \"Topic2\", \"Topic2\", \"Topic2\", \"Topic2\", \"Topic2\", \"Topic2\", \"Topic2\", \"Topic2\", \"Topic2\", \"Topic2\", \"Topic2\", \"Topic3\", \"Topic3\", \"Topic3\", \"Topic3\", \"Topic3\", \"Topic3\", \"Topic3\", \"Topic3\", \"Topic3\", \"Topic3\", \"Topic3\", \"Topic3\", \"Topic3\", \"Topic3\", \"Topic3\", \"Topic3\", \"Topic3\", \"Topic3\", \"Topic3\", \"Topic3\", \"Topic3\", \"Topic3\", \"Topic3\", \"Topic3\", \"Topic3\", \"Topic3\", \"Topic3\", \"Topic3\", \"Topic3\", \"Topic3\", \"Topic3\"], \"logprob\": [30.0, 29.0, 28.0, 27.0, 26.0, 25.0, 24.0, 23.0, 22.0, 21.0, 20.0, 19.0, 18.0, 17.0, 16.0, 15.0, 14.0, 13.0, 12.0, 11.0, 10.0, 9.0, 8.0, 7.0, 6.0, 5.0, 4.0, 3.0, 2.0, 1.0, -2.3807, -4.2579, -4.2676, -3.793, -3.0648, -3.2293, -4.2048, -4.7936, -5.0399, -5.0401, -5.0403, -2.9303, -5.0409, -3.4023, -5.0686, -5.0733, -4.8856, -4.9034, -3.8792, -5.3964, -5.3964, -5.3965, -5.3966, -5.3966, -5.3969, -5.3969, -5.397, -5.3971, -5.397, -5.397, -4.5947, -4.1172, -3.6128, -4.6518, -4.9465, -5.2996, -5.2645, -5.3449, -5.267, -5.3285, -5.3749, -4.4902, -4.4917, -4.4934, -4.4975, -4.4979, -5.0445, -5.0449, -5.0461, -5.0464, -5.0466, -5.0469, -5.0472, -5.0476, -5.0475, -5.0478, -5.0479, -5.0479, -5.0479, -5.048, -5.0483, -5.0486, -5.0487, -5.0488, -5.0488, -5.0492, -5.0492, -5.0494, -5.0495, -5.0498, -5.0498, -4.2147, -4.5447, -3.7676, -4.6099, -4.6218, -3.9534, -4.6633, -4.4923, -4.4142, -4.3826, -4.6202, -4.755, -4.5433, -5.0377, -4.1452, -4.6548, -4.6672, -4.6675, -4.6704, -4.6733, -4.6844, -4.6849, -4.6866, -4.6889, -4.6905, -4.6949, -4.6968, -4.7, -4.7053, -4.7065, -4.7081, -4.7085, -4.7123, -4.7125, -4.7147, -4.7156, -4.7169, -4.7202, -4.7204, -4.7247, -4.728, -4.7349, -4.7437, -4.7476, -4.579], \"loglift\": [30.0, 29.0, 28.0, 27.0, 26.0, 25.0, 24.0, 23.0, 22.0, 21.0, 20.0, 19.0, 18.0, 17.0, 16.0, 15.0, 14.0, 13.0, 12.0, 11.0, 10.0, 9.0, 8.0, 7.0, 6.0, 5.0, 4.0, 3.0, 2.0, 1.0, 0.3013, 0.2771, 0.273, 0.2553, 0.2482, 0.2464, 0.2416, 0.2395, 0.2228, 0.2227, 0.2226, 0.2223, 0.2221, 0.221, 0.2096, 0.2075, 0.1976, 0.1892, 0.1882, 0.1803, 0.1802, 0.1802, 0.1801, 0.1801, 0.18, 0.18, 0.18, 0.1799, 0.1799, 0.1799, 0.1589, 0.134, 0.0973, 0.0751, -0.0299, 0.0184, -0.1435, -0.0035, -0.3053, -0.1857, -0.0223, 1.2942, 1.2922, 1.2901, 1.2847, 1.2846, 1.154, 1.1534, 1.1521, 1.1516, 1.1514, 1.1509, 1.1506, 1.1502, 1.1502, 1.1501, 1.1498, 1.1497, 1.1496, 1.1495, 1.1491, 1.1488, 1.1488, 1.1488, 1.1485, 1.1482, 1.1482, 1.148, 1.1477, 1.1476, 1.1475, 0.747, 0.8558, -0.0575, 0.5329, 0.4992, -0.8008, 0.2533, -0.2411, -0.7909, -1.0696, -0.5528, -0.0282, -1.0676, -2.3556, 1.9226, 1.7709, 1.7506, 1.7501, 1.7453, 1.7406, 1.7225, 1.7218, 1.7191, 1.7152, 1.7128, 1.7057, 1.7025, 1.6975, 1.6888, 1.687, 1.6844, 1.6837, 1.6778, 1.6775, 1.674, 1.6725, 1.6704, 1.6652, 1.6649, 1.6581, 1.6529, 1.6421, 1.6282, 1.6221, 0.8632]}, \"token.table\": {\"Topic\": [2, 2, 2, 1, 2, 1, 1, 2, 1, 2, 1, 2, 1, 1, 2, 1, 2, 1, 2, 1, 2, 1, 2, 2, 2, 1, 2, 2, 2, 1, 2, 1, 2, 1, 2, 1, 2, 2, 2, 2, 1, 1, 2, 2, 1, 2, 1, 2, 1, 2, 1, 2, 1, 2, 1, 2, 1, 3, 1, 1, 2, 1, 2, 2, 1, 1, 2, 2, 1, 1, 1, 1, 2, 2, 2, 1, 1, 1, 1, 2, 1, 2, 1, 2, 1, 2, 1, 2, 1, 2, 2, 2, 2, 1, 2, 1], \"Freq\": [0.569193777269812, 0.861152310732654, 0.8606782263614456, 0.818284407671759, 0.10228555095896988, 0.9256081633784824, 0.9014274372059133, 0.08194794883690122, 0.731401645847073, 0.3657008229235365, 0.9255715280446357, 0.8608742188955537, 0.9256179830739887, 0.9253901416228991, 0.8612371595489587, 0.9254084474180826, 0.8612711491427546, 0.3879429066559613, 0.3879429066559613, 0.7396360877347704, 0.3698180438673852, 0.7870747828918294, 0.2146567589704989, 0.8608222449337032, 0.5695125287765322, 0.7144227173153146, 0.3572113586576573, 0.5684471664067973, 0.8607980814427674, 1.0325404863038772, 0.5689861090778583, 0.9031400412056656, 0.10034889346729618, 0.5768204707565359, 0.5768204707565359, 1.0144228101815123, 0.8614387930755659, 0.8606289176067377, 0.8608944848983549, 0.8606727824184719, 0.812621468859784, 1.014212171527598, 0.860937380260818, 0.8607275884545741, 1.0140547646546727, 0.8607291040400404, 0.5930849720785216, 0.5930849720785216, 0.9056504639046541, 0.05660315399404088, 0.86043233213605, 0.12291890459086428, 0.5002902140242308, 0.5002902140242308, 0.5996184765019535, 0.2998092382509768, 0.8473700432536907, 0.7561350639907942, 0.9253605434079099, 0.9139856723595947, 0.09620901814311524, 0.9795728524566519, 0.8610556745285751, 0.8606841234269563, 0.8554339759597772, 0.8059248412258851, 0.8609540929977749, 0.8616696938938553, 0.9256063322070404, 0.9256044351686987, 0.9851240381198114, 0.9256755885103557, 0.8614534866699964, 0.8608665947534999, 0.860554475919627, 0.9253665765828498, 1.0140209221647543, 1.0299517109786789, 0.8089202172433857, 0.8611096633930916, 0.9184511567285762, 0.06560365405204116, 0.7911777400377583, 0.19779443500943958, 0.972610576492273, 0.025595015170849292, 0.89658407822935, 0.5682978124180031, 0.5866976033242169, 0.29334880166210847, 0.8607227912163733, 0.8611137472509086, 0.8607134689946989, 0.717363234779055, 0.23912107825968495, 0.9254493249601224], \"Term\": [\"-\", \"10%\", \"2.0,\", \"a\", \"a\", \"analysis\", \"and\", \"and\", \"application\", \"application\", \"applications\", \"applications.\", \"areas\", \"article\", \"as\", \"attention\", \"banking,\", \"be\", \"be\", \"benefits\", \"benefits\", \"blockchain\", \"blockchain\", \"business.\", \"by\", \"can\", \"can\", \"capabilities\", \"classified\", \"data\", \"decentralized\", \"education\", \"education\", \"education,\", \"education,\", \"education.\", \"eductx\", \"energy,\", \"estimated\", \"finance,\", \"for\", \"from\", \"gdp\", \"government,\", \"has\", \"health,\", \"higher\", \"higher\", \"in\", \"in\", \"is\", \"is\", \"it\", \"it\", \"its\", \"its\", \"literature\", \"methodology\", \"new\", \"of\", \"of\", \"on\", \"one\", \"own\", \"potential\", \"provides\", \"public,\", \"records.\", \"research\", \"researchers\", \"review\", \"sector\", \"sectors\", \"securing\", \"security,\", \"started\", \"studies\", \"study\", \"systematic\", \"technologies.\", \"technology\", \"technology\", \"that\", \"that\", \"the\", \"the\", \"to\", \"transactions\", \"use\", \"use\", \"valuable\", \"which\", \"will\", \"with\", \"with\", \"year-wise\"]}, \"R\": 30, \"lambda.step\": 0.01, \"plot.opts\": {\"xlab\": \"PC1\", \"ylab\": \"PC2\"}, \"topic.order\": [2, 3, 1]};\n",
       "\n",
       "function LDAvis_load_lib(url, callback){\n",
       "  var s = document.createElement('script');\n",
       "  s.src = url;\n",
       "  s.async = true;\n",
       "  s.onreadystatechange = s.onload = callback;\n",
       "  s.onerror = function(){console.warn(\"failed to load library \" + url);};\n",
       "  document.getElementsByTagName(\"head\")[0].appendChild(s);\n",
       "}\n",
       "\n",
       "if(typeof(LDAvis) !== \"undefined\"){\n",
       "   // already loaded: just create the visualization\n",
       "   !function(LDAvis){\n",
       "       new LDAvis(\"#\" + \"ldavis_el701221771602394721872780372\", ldavis_el701221771602394721872780372_data);\n",
       "   }(LDAvis);\n",
       "}else if(typeof define === \"function\" && define.amd){\n",
       "   // require.js is available: use it to load d3/LDAvis\n",
       "   require.config({paths: {d3: \"https://d3js.org/d3.v5\"}});\n",
       "   require([\"d3\"], function(d3){\n",
       "      window.d3 = d3;\n",
       "      LDAvis_load_lib(\"https://cdn.jsdelivr.net/gh/bmabey/pyLDAvis@3.4.0/pyLDAvis/js/ldavis.v3.0.0.js\", function(){\n",
       "        new LDAvis(\"#\" + \"ldavis_el701221771602394721872780372\", ldavis_el701221771602394721872780372_data);\n",
       "      });\n",
       "    });\n",
       "}else{\n",
       "    // require.js not available: dynamically load d3 & LDAvis\n",
       "    LDAvis_load_lib(\"https://d3js.org/d3.v5.js\", function(){\n",
       "         LDAvis_load_lib(\"https://cdn.jsdelivr.net/gh/bmabey/pyLDAvis@3.4.0/pyLDAvis/js/ldavis.v3.0.0.js\", function(){\n",
       "                 new LDAvis(\"#\" + \"ldavis_el701221771602394721872780372\", ldavis_el701221771602394721872780372_data);\n",
       "            })\n",
       "         });\n",
       "}\n",
       "</script>"
      ],
      "text/plain": [
       "<IPython.core.display.HTML object>"
      ]
     },
     "execution_count": 11,
     "metadata": {},
     "output_type": "execute_result"
    }
   ],
   "source": [
    "# 輸出主題模型分析結果\n",
    "import pyLDAvis.gensim\n",
    "pyLDAvis.enable_notebook()\n",
    "vis = pyLDAvis.gensim.prepare(lda_model, corpus, dictionary)\n",
    "pyLDAvis.display(vis)"
   ]
  },
  {
   "cell_type": "code",
   "execution_count": null,
   "id": "824d2b4e",
   "metadata": {},
   "outputs": [],
   "source": []
  }
 ],
 "metadata": {
  "kernelspec": {
   "display_name": "Python 3 (ipykernel)",
   "language": "python",
   "name": "python3"
  },
  "language_info": {
   "codemirror_mode": {
    "name": "ipython",
    "version": 3
   },
   "file_extension": ".py",
   "mimetype": "text/x-python",
   "name": "python",
   "nbconvert_exporter": "python",
   "pygments_lexer": "ipython3",
   "version": "3.9.7"
  }
 },
 "nbformat": 4,
 "nbformat_minor": 5
}
