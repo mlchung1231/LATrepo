{
 "cells": [
  {
   "cell_type": "markdown",
   "id": "ed385941",
   "metadata": {},
   "source": [
    "讀入資料"
   ]
  },
  {
   "cell_type": "code",
   "execution_count": 36,
   "id": "372becda",
   "metadata": {},
   "outputs": [
    {
     "data": {
      "text/html": [
       "<div>\n",
       "<style scoped>\n",
       "    .dataframe tbody tr th:only-of-type {\n",
       "        vertical-align: middle;\n",
       "    }\n",
       "\n",
       "    .dataframe tbody tr th {\n",
       "        vertical-align: top;\n",
       "    }\n",
       "\n",
       "    .dataframe thead th {\n",
       "        text-align: right;\n",
       "    }\n",
       "</style>\n",
       "<table border=\"1\" class=\"dataframe\">\n",
       "  <thead>\n",
       "    <tr style=\"text-align: right;\">\n",
       "      <th></th>\n",
       "      <th>時間 (sec)</th>\n",
       "      <th>SN1</th>\n",
       "      <th>時間 (sec).1</th>\n",
       "      <th>SN2</th>\n",
       "      <th>時間 (sec).2</th>\n",
       "      <th>SN3</th>\n",
       "      <th>時間 (sec).3</th>\n",
       "      <th>SN4</th>\n",
       "      <th>class</th>\n",
       "    </tr>\n",
       "  </thead>\n",
       "  <tbody>\n",
       "    <tr>\n",
       "      <th>0</th>\n",
       "      <td>0.002582</td>\n",
       "      <td>0.031084</td>\n",
       "      <td>0.095312</td>\n",
       "      <td>0.438761</td>\n",
       "      <td>0.163917</td>\n",
       "      <td>0.016272</td>\n",
       "      <td>0.259988</td>\n",
       "      <td>4.25459</td>\n",
       "      <td>1</td>\n",
       "    </tr>\n",
       "    <tr>\n",
       "      <th>1</th>\n",
       "      <td>0.004777</td>\n",
       "      <td>0.064190</td>\n",
       "      <td>0.097895</td>\n",
       "      <td>1.666540</td>\n",
       "      <td>0.166188</td>\n",
       "      <td>0.061310</td>\n",
       "      <td>0.295714</td>\n",
       "      <td>52.95100</td>\n",
       "      <td>1</td>\n",
       "    </tr>\n",
       "    <tr>\n",
       "      <th>2</th>\n",
       "      <td>0.007188</td>\n",
       "      <td>0.360614</td>\n",
       "      <td>0.100406</td>\n",
       "      <td>2.371800</td>\n",
       "      <td>0.168424</td>\n",
       "      <td>0.201493</td>\n",
       "      <td>0.331390</td>\n",
       "      <td>48.52950</td>\n",
       "      <td>1</td>\n",
       "    </tr>\n",
       "    <tr>\n",
       "      <th>3</th>\n",
       "      <td>0.010003</td>\n",
       "      <td>1.564740</td>\n",
       "      <td>0.102735</td>\n",
       "      <td>2.885410</td>\n",
       "      <td>0.170637</td>\n",
       "      <td>0.439145</td>\n",
       "      <td>0.364984</td>\n",
       "      <td>45.41260</td>\n",
       "      <td>1</td>\n",
       "    </tr>\n",
       "    <tr>\n",
       "      <th>4</th>\n",
       "      <td>0.012240</td>\n",
       "      <td>3.097940</td>\n",
       "      <td>0.105358</td>\n",
       "      <td>3.369740</td>\n",
       "      <td>0.172823</td>\n",
       "      <td>0.606987</td>\n",
       "      <td>0.409413</td>\n",
       "      <td>42.18700</td>\n",
       "      <td>1</td>\n",
       "    </tr>\n",
       "    <tr>\n",
       "      <th>...</th>\n",
       "      <td>...</td>\n",
       "      <td>...</td>\n",
       "      <td>...</td>\n",
       "      <td>...</td>\n",
       "      <td>...</td>\n",
       "      <td>...</td>\n",
       "      <td>...</td>\n",
       "      <td>...</td>\n",
       "      <td>...</td>\n",
       "    </tr>\n",
       "    <tr>\n",
       "      <th>199</th>\n",
       "      <td>16.679100</td>\n",
       "      <td>0.000000</td>\n",
       "      <td>0.000000</td>\n",
       "      <td>0.000000</td>\n",
       "      <td>0.000000</td>\n",
       "      <td>0.000000</td>\n",
       "      <td>0.000000</td>\n",
       "      <td>0.00000</td>\n",
       "      <td>3</td>\n",
       "    </tr>\n",
       "    <tr>\n",
       "      <th>200</th>\n",
       "      <td>16.991600</td>\n",
       "      <td>0.000000</td>\n",
       "      <td>0.000000</td>\n",
       "      <td>0.000000</td>\n",
       "      <td>0.000000</td>\n",
       "      <td>0.000000</td>\n",
       "      <td>0.000000</td>\n",
       "      <td>0.00000</td>\n",
       "      <td>3</td>\n",
       "    </tr>\n",
       "    <tr>\n",
       "      <th>201</th>\n",
       "      <td>17.307200</td>\n",
       "      <td>0.000000</td>\n",
       "      <td>0.000000</td>\n",
       "      <td>0.000000</td>\n",
       "      <td>0.000000</td>\n",
       "      <td>0.000000</td>\n",
       "      <td>0.000000</td>\n",
       "      <td>0.00000</td>\n",
       "      <td>3</td>\n",
       "    </tr>\n",
       "    <tr>\n",
       "      <th>202</th>\n",
       "      <td>17.625900</td>\n",
       "      <td>0.000000</td>\n",
       "      <td>0.000000</td>\n",
       "      <td>0.000000</td>\n",
       "      <td>0.000000</td>\n",
       "      <td>0.000000</td>\n",
       "      <td>0.000000</td>\n",
       "      <td>0.00000</td>\n",
       "      <td>3</td>\n",
       "    </tr>\n",
       "    <tr>\n",
       "      <th>203</th>\n",
       "      <td>23.755300</td>\n",
       "      <td>0.000000</td>\n",
       "      <td>0.000000</td>\n",
       "      <td>0.000000</td>\n",
       "      <td>0.000000</td>\n",
       "      <td>0.000000</td>\n",
       "      <td>0.000000</td>\n",
       "      <td>0.00000</td>\n",
       "      <td>3</td>\n",
       "    </tr>\n",
       "  </tbody>\n",
       "</table>\n",
       "<p>612 rows × 9 columns</p>\n",
       "</div>"
      ],
      "text/plain": [
       "      時間 (sec)      SN1   時間 (sec).1      SN2   時間 (sec).2      SN3   \\\n",
       "0     0.002582  0.031084    0.095312  0.438761    0.163917  0.016272   \n",
       "1     0.004777  0.064190    0.097895  1.666540    0.166188  0.061310   \n",
       "2     0.007188  0.360614    0.100406  2.371800    0.168424  0.201493   \n",
       "3     0.010003  1.564740    0.102735  2.885410    0.170637  0.439145   \n",
       "4     0.012240  3.097940    0.105358  3.369740    0.172823  0.606987   \n",
       "..         ...       ...         ...       ...         ...       ...   \n",
       "199  16.679100  0.000000    0.000000  0.000000    0.000000  0.000000   \n",
       "200  16.991600  0.000000    0.000000  0.000000    0.000000  0.000000   \n",
       "201  17.307200  0.000000    0.000000  0.000000    0.000000  0.000000   \n",
       "202  17.625900  0.000000    0.000000  0.000000    0.000000  0.000000   \n",
       "203  23.755300  0.000000    0.000000  0.000000    0.000000  0.000000   \n",
       "\n",
       "     時間 (sec).3      SN4   class  \n",
       "0      0.259988   4.25459      1  \n",
       "1      0.295714  52.95100      1  \n",
       "2      0.331390  48.52950      1  \n",
       "3      0.364984  45.41260      1  \n",
       "4      0.409413  42.18700      1  \n",
       "..          ...       ...    ...  \n",
       "199    0.000000   0.00000      3  \n",
       "200    0.000000   0.00000      3  \n",
       "201    0.000000   0.00000      3  \n",
       "202    0.000000   0.00000      3  \n",
       "203    0.000000   0.00000      3  \n",
       "\n",
       "[612 rows x 9 columns]"
      ]
     },
     "execution_count": 36,
     "metadata": {},
     "output_type": "execute_result"
    }
   ],
   "source": [
    "import pandas as pd\n",
    "import numpy as np\n",
    "\n",
    "df1 = pd.read_csv('class_1.csv')\n",
    "df2 = pd.read_csv('class_2.csv')\n",
    "df3 = pd.read_csv('class_3.csv')\n",
    "df1['class'] = 1\n",
    "df2['class'] = 2\n",
    "df3['class'] = 3\n",
    "frames = [df1, df2, df3]\n",
    "df = pd.concat(frames)\n",
    "\n",
    "#將NaN值補0\n",
    "df.fillna(0, inplace=True)\n",
    "df"
   ]
  },
  {
   "cell_type": "markdown",
   "id": "a555ed6d",
   "metadata": {},
   "source": [
    "Q1：各組 SN1 最大壓力值"
   ]
  },
  {
   "cell_type": "code",
   "execution_count": 37,
   "id": "aa3495a9",
   "metadata": {},
   "outputs": [
    {
     "data": {
      "text/html": [
       "<div>\n",
       "<style scoped>\n",
       "    .dataframe tbody tr th:only-of-type {\n",
       "        vertical-align: middle;\n",
       "    }\n",
       "\n",
       "    .dataframe tbody tr th {\n",
       "        vertical-align: top;\n",
       "    }\n",
       "\n",
       "    .dataframe thead th {\n",
       "        text-align: right;\n",
       "    }\n",
       "</style>\n",
       "<table border=\"1\" class=\"dataframe\">\n",
       "  <thead>\n",
       "    <tr style=\"text-align: right;\">\n",
       "      <th></th>\n",
       "      <th>class</th>\n",
       "      <th>SN1</th>\n",
       "    </tr>\n",
       "  </thead>\n",
       "  <tbody>\n",
       "    <tr>\n",
       "      <th>0</th>\n",
       "      <td>1</td>\n",
       "      <td>67.6</td>\n",
       "    </tr>\n",
       "    <tr>\n",
       "      <th>1</th>\n",
       "      <td>2</td>\n",
       "      <td>67.6</td>\n",
       "    </tr>\n",
       "    <tr>\n",
       "      <th>2</th>\n",
       "      <td>3</td>\n",
       "      <td>67.6</td>\n",
       "    </tr>\n",
       "  </tbody>\n",
       "</table>\n",
       "</div>"
      ],
      "text/plain": [
       "   class  SN1 \n",
       "0      1  67.6\n",
       "1      2  67.6\n",
       "2      3  67.6"
      ]
     },
     "execution_count": 37,
     "metadata": {},
     "output_type": "execute_result"
    }
   ],
   "source": [
    "df_max_sn1 = df.groupby(['class'])['SN1 '].max().reset_index()\n",
    "df_max_sn1"
   ]
  },
  {
   "cell_type": "markdown",
   "id": "f98e5ab4",
   "metadata": {},
   "source": [
    "Q2：各組 SN2 最大壓力值"
   ]
  },
  {
   "cell_type": "code",
   "execution_count": 38,
   "id": "2550a9db",
   "metadata": {},
   "outputs": [
    {
     "data": {
      "text/html": [
       "<div>\n",
       "<style scoped>\n",
       "    .dataframe tbody tr th:only-of-type {\n",
       "        vertical-align: middle;\n",
       "    }\n",
       "\n",
       "    .dataframe tbody tr th {\n",
       "        vertical-align: top;\n",
       "    }\n",
       "\n",
       "    .dataframe thead th {\n",
       "        text-align: right;\n",
       "    }\n",
       "</style>\n",
       "<table border=\"1\" class=\"dataframe\">\n",
       "  <thead>\n",
       "    <tr style=\"text-align: right;\">\n",
       "      <th></th>\n",
       "      <th>class</th>\n",
       "      <th>SN2</th>\n",
       "    </tr>\n",
       "  </thead>\n",
       "  <tbody>\n",
       "    <tr>\n",
       "      <th>0</th>\n",
       "      <td>1</td>\n",
       "      <td>63.1276</td>\n",
       "    </tr>\n",
       "    <tr>\n",
       "      <th>1</th>\n",
       "      <td>2</td>\n",
       "      <td>63.8463</td>\n",
       "    </tr>\n",
       "    <tr>\n",
       "      <th>2</th>\n",
       "      <td>3</td>\n",
       "      <td>64.3854</td>\n",
       "    </tr>\n",
       "  </tbody>\n",
       "</table>\n",
       "</div>"
      ],
      "text/plain": [
       "   class     SN2 \n",
       "0      1  63.1276\n",
       "1      2  63.8463\n",
       "2      3  64.3854"
      ]
     },
     "execution_count": 38,
     "metadata": {},
     "output_type": "execute_result"
    }
   ],
   "source": [
    "df_max_sn2 = df.groupby(['class'])['SN2 '].max().reset_index()\n",
    "df_max_sn2"
   ]
  },
  {
   "cell_type": "markdown",
   "id": "f32eb46b",
   "metadata": {},
   "source": [
    "Q3：各組 SN3 最大壓力值"
   ]
  },
  {
   "cell_type": "code",
   "execution_count": 39,
   "id": "3b43f411",
   "metadata": {},
   "outputs": [
    {
     "data": {
      "text/html": [
       "<div>\n",
       "<style scoped>\n",
       "    .dataframe tbody tr th:only-of-type {\n",
       "        vertical-align: middle;\n",
       "    }\n",
       "\n",
       "    .dataframe tbody tr th {\n",
       "        vertical-align: top;\n",
       "    }\n",
       "\n",
       "    .dataframe thead th {\n",
       "        text-align: right;\n",
       "    }\n",
       "</style>\n",
       "<table border=\"1\" class=\"dataframe\">\n",
       "  <thead>\n",
       "    <tr style=\"text-align: right;\">\n",
       "      <th></th>\n",
       "      <th>class</th>\n",
       "      <th>SN3</th>\n",
       "    </tr>\n",
       "  </thead>\n",
       "  <tbody>\n",
       "    <tr>\n",
       "      <th>0</th>\n",
       "      <td>1</td>\n",
       "      <td>55.8327</td>\n",
       "    </tr>\n",
       "    <tr>\n",
       "      <th>1</th>\n",
       "      <td>2</td>\n",
       "      <td>57.8237</td>\n",
       "    </tr>\n",
       "    <tr>\n",
       "      <th>2</th>\n",
       "      <td>3</td>\n",
       "      <td>59.8625</td>\n",
       "    </tr>\n",
       "  </tbody>\n",
       "</table>\n",
       "</div>"
      ],
      "text/plain": [
       "   class     SN3 \n",
       "0      1  55.8327\n",
       "1      2  57.8237\n",
       "2      3  59.8625"
      ]
     },
     "execution_count": 39,
     "metadata": {},
     "output_type": "execute_result"
    }
   ],
   "source": [
    "df_max_sn3 = df.groupby(['class'])['SN3 '].max().reset_index()\n",
    "df_max_sn3"
   ]
  },
  {
   "cell_type": "markdown",
   "id": "ee9ad8ed",
   "metadata": {},
   "source": [
    "Q4：各組 SN4 最大壓力值"
   ]
  },
  {
   "cell_type": "code",
   "execution_count": 40,
   "id": "8284b0a1",
   "metadata": {},
   "outputs": [
    {
     "data": {
      "text/html": [
       "<div>\n",
       "<style scoped>\n",
       "    .dataframe tbody tr th:only-of-type {\n",
       "        vertical-align: middle;\n",
       "    }\n",
       "\n",
       "    .dataframe tbody tr th {\n",
       "        vertical-align: top;\n",
       "    }\n",
       "\n",
       "    .dataframe thead th {\n",
       "        text-align: right;\n",
       "    }\n",
       "</style>\n",
       "<table border=\"1\" class=\"dataframe\">\n",
       "  <thead>\n",
       "    <tr style=\"text-align: right;\">\n",
       "      <th></th>\n",
       "      <th>class</th>\n",
       "      <th>SN4</th>\n",
       "    </tr>\n",
       "  </thead>\n",
       "  <tbody>\n",
       "    <tr>\n",
       "      <th>0</th>\n",
       "      <td>1</td>\n",
       "      <td>52.9510</td>\n",
       "    </tr>\n",
       "    <tr>\n",
       "      <th>1</th>\n",
       "      <td>2</td>\n",
       "      <td>54.6338</td>\n",
       "    </tr>\n",
       "    <tr>\n",
       "      <th>2</th>\n",
       "      <td>3</td>\n",
       "      <td>57.3840</td>\n",
       "    </tr>\n",
       "  </tbody>\n",
       "</table>\n",
       "</div>"
      ],
      "text/plain": [
       "   class     SN4 \n",
       "0      1  52.9510\n",
       "1      2  54.6338\n",
       "2      3  57.3840"
      ]
     },
     "execution_count": 40,
     "metadata": {},
     "output_type": "execute_result"
    }
   ],
   "source": [
    "df_max_sn4 = df.groupby(['class'])['SN4 '].max().reset_index()\n",
    "df_max_sn4"
   ]
  },
  {
   "cell_type": "markdown",
   "id": "f56dc113",
   "metadata": {},
   "source": [
    "Q5：各組 SN1 全程壓力積分值"
   ]
  },
  {
   "cell_type": "code",
   "execution_count": 41,
   "id": "71b5b113",
   "metadata": {},
   "outputs": [
    {
     "name": "stdout",
     "output_type": "stream",
     "text": [
      "第一組SN1壓力積分值為： 254.52743808546666\n",
      "第二組SN1壓力積分值為： 248.17153679371611\n",
      "第三組SN1壓力積分值為： 253.01528095686666\n"
     ]
    }
   ],
   "source": [
    "# 取得第一行和第二行的數值\n",
    "df_time1 = df['時間 (sec)'].values\n",
    "df_sn1 = df['SN1 '].values\n",
    "\n",
    "# 積分\n",
    "total_length=len(df_time1)\n",
    "length=total_length//3\n",
    "temp = 0\n",
    "time = 0\n",
    "result = 0\n",
    "for i in range(0,length):\n",
    "    time = df_time1[i] - temp\n",
    "    result += time * df_sn1[i]\n",
    "    temp = df_time1[i]\n",
    "print('第一組SN1壓力積分值為：',result)\n",
    "\n",
    "temp = 0\n",
    "time = 0\n",
    "result = 0\n",
    "for i in range(length,2*length):\n",
    "    time = df_time1[i] - temp\n",
    "    result += time * df_sn1[i]\n",
    "    temp = df_time1[i]\n",
    "print('第二組SN1壓力積分值為：',result)\n",
    "\n",
    "temp = 0\n",
    "time = 0\n",
    "result = 0\n",
    "for i in range(2*length,3*length):\n",
    "    time = df_time1[i] - temp\n",
    "    result += time * df_sn1[i]\n",
    "    temp = df_time1[i]\n",
    "print('第三組SN1壓力積分值為：',result)\n"
   ]
  },
  {
   "cell_type": "markdown",
   "id": "29b24ed3",
   "metadata": {},
   "source": [
    "Q6：各組 SN2 全程壓力積分值"
   ]
  },
  {
   "cell_type": "code",
   "execution_count": 54,
   "id": "753e9d75",
   "metadata": {},
   "outputs": [
    {
     "name": "stdout",
     "output_type": "stream",
     "text": [
      "第一組SN2壓力積分值為： 524.5140906970483\n",
      "第二組SN2壓力積分值為： 486.98076128235994\n",
      "第三組SN2壓力積分值為： 487.33945923649924\n"
     ]
    }
   ],
   "source": [
    "df_time2 = df['時間 (sec).1'].values\n",
    "df_sn2 = df['SN2 '].values\n",
    "\n",
    "total_length=len(df_time2)\n",
    "length=total_length//3\n",
    "temp = 0\n",
    "time = 0\n",
    "result = 0\n",
    "for i in range(0,length):\n",
    "    time = df_time2[i] - temp\n",
    "    result += time * df_sn2[i]\n",
    "    temp = df_time2[i]\n",
    "print('第一組SN2壓力積分值為：',result)\n",
    "\n",
    "temp = 0\n",
    "time = 0\n",
    "result = 0\n",
    "for i in range(length,2*length):\n",
    "    time = df_time2[i] - temp\n",
    "    result += time * df_sn2[i]\n",
    "    temp = df_time2[i]\n",
    "print('第二組SN2壓力積分值為：',result)\n",
    "\n",
    "temp = 0\n",
    "time = 0\n",
    "result = 0\n",
    "for i in range(2*length,3*length):\n",
    "    time = df_time2[i] - temp\n",
    "    result += time * df_sn2[i]\n",
    "    temp = df_time2[i]\n",
    "print('第三組SN2壓力積分值為：',result)\n",
    "\n"
   ]
  },
  {
   "cell_type": "markdown",
   "id": "589f525e",
   "metadata": {},
   "source": [
    "Q7：各組 SN3 全程壓力積分值"
   ]
  },
  {
   "cell_type": "code",
   "execution_count": 55,
   "id": "a61c8aa6",
   "metadata": {},
   "outputs": [
    {
     "name": "stdout",
     "output_type": "stream",
     "text": [
      "第一組SN3壓力積分值為： 284.25807487786346\n",
      "第二組SN3壓力積分值為： 293.8335120698687\n",
      "第三組SN3壓力積分值為： 307.60797503169795\n"
     ]
    }
   ],
   "source": [
    "df_time3 = df['時間 (sec).2'].values\n",
    "df_sn3 = df['SN3 '].values\n",
    "\n",
    "total_length=len(df_time3)\n",
    "length=total_length//3\n",
    "temp = 0\n",
    "time = 0\n",
    "result = 0\n",
    "for i in range(0,length):\n",
    "    time = df_time3[i] - temp\n",
    "    result += time * df_sn3[i]\n",
    "    temp = df_time3[i]\n",
    "print('第一組SN3壓力積分值為：',result)\n",
    "\n",
    "temp = 0\n",
    "time = 0\n",
    "result = 0\n",
    "for i in range(length,2*length):\n",
    "    time = df_time3[i] - temp\n",
    "    result += time * df_sn3[i]\n",
    "    temp = df_time3[i]\n",
    "print('第二組SN3壓力積分值為：',result)\n",
    "\n",
    "temp = 0\n",
    "time = 0\n",
    "result = 0\n",
    "for i in range(2*length,3*length):\n",
    "    time = df_time3[i] - temp\n",
    "    result += time * df_sn3[i]\n",
    "    temp = df_time3[i]\n",
    "print('第三組SN3壓力積分值為：',result)\n",
    "\n"
   ]
  },
  {
   "cell_type": "markdown",
   "id": "7d616cf0",
   "metadata": {},
   "source": [
    "Q8：各組 SN4 全程壓力積分值"
   ]
  },
  {
   "cell_type": "code",
   "execution_count": 56,
   "id": "8b79fea5",
   "metadata": {},
   "outputs": [
    {
     "name": "stdout",
     "output_type": "stream",
     "text": [
      "第一組SN4壓力積分值為： 132.63945225151195\n",
      "第二組SN4壓力積分值為： 135.92637278920046\n",
      "第三組SN4壓力積分值為： 144.072575660048\n"
     ]
    }
   ],
   "source": [
    "df_time4 = df['時間 (sec).3'].values\n",
    "df_sn4 = df['SN4 '].values\n",
    "\n",
    "total_length=len(df_time4)\n",
    "length=total_length//3\n",
    "temp = 0\n",
    "time = 0\n",
    "result = 0\n",
    "for i in range(0,length):\n",
    "    time = df_time4[i] - temp\n",
    "    result += time * df_sn4[i]\n",
    "    temp = df_time4[i]\n",
    "print('第一組SN4壓力積分值為：',result)\n",
    "\n",
    "temp = 0\n",
    "time = 0\n",
    "result = 0\n",
    "for i in range(length,2*length):\n",
    "    time = df_time4[i] - temp\n",
    "    result += time * df_sn4[i]\n",
    "    temp = df_time4[i]\n",
    "print('第二組SN4壓力積分值為：',result)\n",
    "\n",
    "temp = 0\n",
    "time = 0\n",
    "result = 0\n",
    "for i in range(2*length,3*length):\n",
    "    time = df_time4[i] - temp\n",
    "    result += time * df_sn4[i]\n",
    "    temp = df_time4[i]\n",
    "print('第三組SN4壓力積分值為：',result)\n",
    "\n"
   ]
  },
  {
   "cell_type": "markdown",
   "id": "3e91c714",
   "metadata": {},
   "source": [
    "Q9：系統保壓壓力設定為多少"
   ]
  },
  {
   "cell_type": "code",
   "execution_count": 60,
   "id": "421cdbc7",
   "metadata": {},
   "outputs": [
    {
     "name": "stdout",
     "output_type": "stream",
     "text": [
      "第一組系統保壓壓力為： 67.6\n",
      "第二組系統保壓壓力為： 67.6\n",
      "第三組系統保壓壓力為： 67.6\n"
     ]
    }
   ],
   "source": [
    "total_length=len(df_time1)\n",
    "length=total_length//3\n",
    "temp = 0\n",
    "hold = 0\n",
    "for i in range(0,length):\n",
    "    if(df_sn1[i] == 0):\n",
    "        continue\n",
    "    if(temp == df_sn1[i]):\n",
    "        hold = temp\n",
    "    else:\n",
    "        temp = df_sn1[i]    \n",
    "print('第一組系統保壓壓力為：',hold)\n",
    "\n",
    "temp = 0\n",
    "hold = 0\n",
    "for i in range(length,2*length):\n",
    "    if(df_sn1[i] == 0):\n",
    "        continue\n",
    "    if(temp == df_sn1[i]):\n",
    "        hold = temp\n",
    "    else:\n",
    "        temp = df_sn1[i]    \n",
    "print('第二組系統保壓壓力為：',hold)\n",
    "\n",
    "temp = 0\n",
    "hold = 0\n",
    "for i in range(2*length,3*length):\n",
    "    if(df_sn1[i] == 0):\n",
    "        continue\n",
    "    if(temp == df_sn1[i]):\n",
    "        hold = temp\n",
    "    else:\n",
    "        temp = df_sn1[i]    \n",
    "print('第三組系統保壓壓力為：',hold)\n"
   ]
  },
  {
   "cell_type": "markdown",
   "id": "364f5222",
   "metadata": {},
   "source": [
    "Q10：系統保壓開始到結束時段"
   ]
  },
  {
   "cell_type": "code",
   "execution_count": 67,
   "id": "e5f5c479",
   "metadata": {},
   "outputs": [
    {
     "name": "stdout",
     "output_type": "stream",
     "text": [
      "第一組系統保壓開始： 1.22228 s ，結束： 3.86095 s\n",
      "第二組系統保壓開始： 1.27487 s ，結束： 3.77724 s\n",
      "第三組系統保壓開始： 1.22187 s ，結束： 3.86055 s\n"
     ]
    }
   ],
   "source": [
    "total_length=len(df_time1)\n",
    "length=total_length//3\n",
    "temp = 0\n",
    "hold_start = 100\n",
    "hold_end = 0\n",
    "for i in range(0,length):\n",
    "    if(df_sn1[i] == 0):\n",
    "        continue\n",
    "    if(temp == df_sn1[i]):\n",
    "        hold_end = df_time1[i]\n",
    "        if(hold_start > df_time1[i-1]):\n",
    "            hold_start = df_time1[i-1]\n",
    "    else:\n",
    "        temp = df_sn1[i]    \n",
    "print('第一組系統保壓開始：', hold_start, 's ，結束：', hold_end, 's')\n",
    "\n",
    "temp = 0\n",
    "hold_start = 100\n",
    "hold_end = 0\n",
    "for i in range(length,2*length):\n",
    "    if(df_sn1[i] == 0):\n",
    "        continue\n",
    "    if(temp == df_sn1[i]):\n",
    "        hold_end = df_time1[i]\n",
    "        if(hold_start > df_time1[i-1]):\n",
    "            hold_start = df_time1[i-1]\n",
    "    else:\n",
    "        temp = df_sn1[i]    \n",
    "print('第二組系統保壓開始：', hold_start, 's ，結束：', hold_end, 's')\n",
    "\n",
    "\n",
    "temp = 0\n",
    "hold_start = 100\n",
    "hold_end = 0\n",
    "for i in range(2*length,3*length):\n",
    "    if(df_sn1[i] == 0):\n",
    "        continue\n",
    "    if(temp == df_sn1[i]):\n",
    "        hold_end = df_time1[i]\n",
    "        if(hold_start > df_time1[i-1]):\n",
    "            hold_start = df_time1[i-1]\n",
    "    else:\n",
    "        temp = df_sn1[i]    \n",
    "print('第三組系統保壓開始：', hold_start, 's ，結束：', hold_end, 's')\n"
   ]
  },
  {
   "cell_type": "code",
   "execution_count": null,
   "id": "956f0eea",
   "metadata": {},
   "outputs": [],
   "source": []
  }
 ],
 "metadata": {
  "kernelspec": {
   "display_name": "Python 3 (ipykernel)",
   "language": "python",
   "name": "python3"
  },
  "language_info": {
   "codemirror_mode": {
    "name": "ipython",
    "version": 3
   },
   "file_extension": ".py",
   "mimetype": "text/x-python",
   "name": "python",
   "nbconvert_exporter": "python",
   "pygments_lexer": "ipython3",
   "version": "3.9.7"
  }
 },
 "nbformat": 4,
 "nbformat_minor": 5
}
